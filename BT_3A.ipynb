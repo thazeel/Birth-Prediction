{
 "cells": [
  {
   "cell_type": "code",
   "execution_count": 8,
   "metadata": {},
   "outputs": [],
   "source": [
    "import numpy as np\n",
    "import matplotlib.pyplot as plt\n",
    "import pandas as pd\n",
    "import os\n",
    "import seaborn as sns\n",
    "from sklearn.model_selection import train_test_split\n",
    "#from sklearn.linear_model import LogisticRegression\n",
    "from sklearn.metrics import accuracy_score\n",
    "import copy, math\n",
    "from sklearn.ensemble import RandomForestClassifier"
   ]
  },
  {
   "cell_type": "code",
   "execution_count": 9,
   "metadata": {},
   "outputs": [],
   "source": [
    "metadata=pd.read_csv(r\"E:\\BT workshop\\PTB\\metadata\\metadata.csv\")\n",
    "relabd_species=pd.read_csv(r\"E:\\BT workshop\\PTB\\taxonomy\\taxonomy_relabd.species.csv\")\n",
    "metadata.index=[i for i in metadata['specimen']]\n"
   ]
  },
  {
   "cell_type": "code",
   "execution_count": 10,
   "metadata": {},
   "outputs": [],
   "source": [
    "relabd_species.index=[i for i in relabd_species['specimen']]\n",
    "relabd_species.drop('specimen',inplace=True,axis=1)\n",
    "relabd_species[relabd_species<0.001]=0\n"
   ]
  },
  {
   "cell_type": "code",
   "execution_count": 11,
   "metadata": {},
   "outputs": [],
   "source": [
    "relabd_species['was_preterm']=metadata['was_preterm']\n",
    "relabd_species['collect_wk']=metadata['collect_wk']\n",
    "relabd_species['trimester'] = relabd_species['collect_wk'].apply(lambda x: 1 if x/12 <= 1 else (2 if x/12 <= 2 else 3))"
   ]
  },
  {
   "cell_type": "code",
   "execution_count": 12,
   "metadata": {},
   "outputs": [],
   "source": [
    "grouped=relabd_species.groupby('was_preterm')"
   ]
  },
  {
   "cell_type": "code",
   "execution_count": 13,
   "metadata": {},
   "outputs": [],
   "source": [
    "term=grouped.get_group(False)\n",
    "preterm=grouped.get_group(True)"
   ]
  },
  {
   "cell_type": "code",
   "execution_count": 14,
   "metadata": {},
   "outputs": [],
   "source": [
    "preterm.to_csv('preterm.csv', index=False)\n",
    "term.to_csv('term.csv', index=False)"
   ]
  },
  {
   "cell_type": "code",
   "execution_count": null,
   "metadata": {},
   "outputs": [],
   "source": []
  }
 ],
 "metadata": {
  "kernelspec": {
   "display_name": "Python 3",
   "language": "python",
   "name": "python3"
  },
  "language_info": {
   "codemirror_mode": {
    "name": "ipython",
    "version": 3
   },
   "file_extension": ".py",
   "mimetype": "text/x-python",
   "name": "python",
   "nbconvert_exporter": "python",
   "pygments_lexer": "ipython3",
   "version": "3.9.10"
  },
  "orig_nbformat": 4
 },
 "nbformat": 4,
 "nbformat_minor": 2
}
